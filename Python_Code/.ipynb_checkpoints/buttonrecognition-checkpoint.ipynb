{
 "cells": [
  {
   "cell_type": "code",
   "execution_count": 1,
   "metadata": {},
   "outputs": [],
   "source": [
    "import cv2\n",
    "import numpy as np\n",
    "import pytesseract as pt"
   ]
  },
  {
   "cell_type": "code",
   "execution_count": 2,
   "metadata": {},
   "outputs": [],
   "source": [
    "image = cv2.imread('el.jpg')\n",
    "\n",
    "gray = cv2.cvtColor(image,cv2.COLOR_BGR2GRAY) \n",
    "#cv2.imshow('gray', gray) \n",
    "#cv2.waitKey(0) \n",
    "#binary \n",
    "ret,thresh = cv2.threshold(gray,127,255,cv2.THRESH_BINARY_INV) \n",
    "cv2.imshow('second', thresh) \n",
    "#cv2.waitKey(0) \n",
    "kernel = np.ones((10,15), np.uint8) "
   ]
  },
  {
   "cell_type": "code",
   "execution_count": 3,
   "metadata": {},
   "outputs": [],
   "source": [
    "#find contours \n",
    "#ctrs, hier = cv2.findContours(img_dilation.copy(), cv2.RETR_EXTERNAL, cv2.CHAIN_APPROX_SIMPLE)\n",
    "_,ctrs, hier = cv2.findContours(thresh.copy(), cv2.RETR_EXTERNAL, cv2.CHAIN_APPROX_SIMPLE)\n",
    "#sort contours \n",
    "sorted_ctrs = sorted(ctrs, key=lambda ctr: cv2.boundingRect(ctr)[0])"
   ]
  },
  {
   "cell_type": "code",
   "execution_count": 4,
   "metadata": {},
   "outputs": [],
   "source": [
    "for i,ctr in enumerate(sorted_ctrs): \n",
    "    # Get bounding box \n",
    "    x, y, w, h = cv2.boundingRect(ctr) \n",
    "    \n",
    "    # Getting ROI \n",
    "    if w > 15 and h > 15:\n",
    "        my1 = (y + y + h)/2\n",
    "        my2 = (y + my1)/2\n",
    "        my3 = (y+my2)/2\n",
    "        width = my2 - y\n",
    "        mx1 = (x + x + w)/2\n",
    "        mx2 = (x + mx1)/2\n",
    "        mx3 = (x +mx2)/2\n",
    "        height = mx2 - x\n",
    "        roi = thresh[y+width:y+h-width, x+height:x+w-height]\n",
    "        #cv2.imshow('roi',roi)\n",
    "        cv2.rectangle(image,(x,y),( x + w, y + h ),(0,255,0),2) \n",
    "        num = pt.image_to_string(roi, config=\"--psm 13, outputbase digits\")\n",
    "        #cv2.imwrite(\"num\"+num+'.png'.format(i), roi)\n",
    "        cv2.putText(image, str(num), (x,y),cv2.FONT_HERSHEY_DUPLEX, 2, (0, 255, 255), 3)"
   ]
  },
  {
   "cell_type": "code",
   "execution_count": null,
   "metadata": {},
   "outputs": [],
   "source": [
    "cv2.imshow('marked areas',image) \n",
    "cv2.imwrite('result.png',image) \n",
    "cv2.waitKey(0)"
   ]
  },
  {
   "cell_type": "code",
   "execution_count": null,
   "metadata": {},
   "outputs": [],
   "source": []
  }
 ],
 "metadata": {
  "kernelspec": {
   "display_name": "Python 2",
   "language": "python",
   "name": "python2"
  },
  "language_info": {
   "codemirror_mode": {
    "name": "ipython",
    "version": 2
   },
   "file_extension": ".py",
   "mimetype": "text/x-python",
   "name": "python",
   "nbconvert_exporter": "python",
   "pygments_lexer": "ipython2",
   "version": "2.7.15"
  }
 },
 "nbformat": 4,
 "nbformat_minor": 2
}
